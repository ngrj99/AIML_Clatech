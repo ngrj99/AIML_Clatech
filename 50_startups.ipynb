{
 "cells": [
  {
   "cell_type": "code",
   "execution_count": 1,
   "id": "97d89016-a8a9-4f4c-8db6-a7d72b8f0114",
   "metadata": {},
   "outputs": [],
   "source": [
    "# Regression using ANN in PyTorch\n",
    "\n",
    "import pandas as pd\n",
    "import numpy as np\n",
    "import torch\n",
    "import torch.nn as nn\n",
    "import torch.optim as optim\n",
    "from sklearn.model_selection import train_test_split\n",
    "from sklearn.preprocessing import StandardScaler\n",
    "from sklearn.metrics import mean_squared_error, r2_score"
   ]
  },
  {
   "cell_type": "code",
   "execution_count": 2,
   "id": "d8be44fc-89ce-40ec-b3d5-8839034a9ec4",
   "metadata": {},
   "outputs": [
    {
     "name": "stdout",
     "output_type": "stream",
     "text": [
      "Using device: cpu\n"
     ]
    }
   ],
   "source": [
    "# Set device\n",
    "device = torch.device(\"cuda\" if torch.cuda.is_available() else \"cpu\")\n",
    "print(f\"Using device: {device}\")"
   ]
  },
  {
   "cell_type": "code",
   "execution_count": 5,
   "id": "ac14287c-8c4e-4324-a99a-1971a368160b",
   "metadata": {},
   "outputs": [],
   "source": [
    "# Load the dataset\n",
    "data = pd.read_csv(\"C:\\\\Users\\\\ngajula\\\\AppData\\\\Local\\\\Programs\\\\Python\\\\Python312\\\\Scripts\\\\ADL_CV\\\\Day7\\\\50_Startups.csv\")\n",
    "data.dropna(inplace=True)"
   ]
  },
  {
   "cell_type": "code",
   "execution_count": 6,
   "id": "a0d00d65-7d2f-4b6f-b2d7-2fa20e9f9b19",
   "metadata": {},
   "outputs": [
    {
     "data": {
      "text/html": [
       "<div>\n",
       "<style scoped>\n",
       "    .dataframe tbody tr th:only-of-type {\n",
       "        vertical-align: middle;\n",
       "    }\n",
       "\n",
       "    .dataframe tbody tr th {\n",
       "        vertical-align: top;\n",
       "    }\n",
       "\n",
       "    .dataframe thead th {\n",
       "        text-align: right;\n",
       "    }\n",
       "</style>\n",
       "<table border=\"1\" class=\"dataframe\">\n",
       "  <thead>\n",
       "    <tr style=\"text-align: right;\">\n",
       "      <th></th>\n",
       "      <th>R&amp;D Spend</th>\n",
       "      <th>Administration</th>\n",
       "      <th>Marketing Spend</th>\n",
       "      <th>State</th>\n",
       "      <th>Profit</th>\n",
       "    </tr>\n",
       "  </thead>\n",
       "  <tbody>\n",
       "    <tr>\n",
       "      <th>0</th>\n",
       "      <td>165349.20</td>\n",
       "      <td>136897.80</td>\n",
       "      <td>471784.10</td>\n",
       "      <td>New York</td>\n",
       "      <td>192261.83</td>\n",
       "    </tr>\n",
       "    <tr>\n",
       "      <th>1</th>\n",
       "      <td>162597.70</td>\n",
       "      <td>151377.59</td>\n",
       "      <td>443898.53</td>\n",
       "      <td>California</td>\n",
       "      <td>191792.06</td>\n",
       "    </tr>\n",
       "    <tr>\n",
       "      <th>2</th>\n",
       "      <td>153441.51</td>\n",
       "      <td>101145.55</td>\n",
       "      <td>407934.54</td>\n",
       "      <td>Florida</td>\n",
       "      <td>191050.39</td>\n",
       "    </tr>\n",
       "    <tr>\n",
       "      <th>3</th>\n",
       "      <td>144372.41</td>\n",
       "      <td>118671.85</td>\n",
       "      <td>383199.62</td>\n",
       "      <td>New York</td>\n",
       "      <td>182901.99</td>\n",
       "    </tr>\n",
       "    <tr>\n",
       "      <th>4</th>\n",
       "      <td>142107.34</td>\n",
       "      <td>91391.77</td>\n",
       "      <td>366168.42</td>\n",
       "      <td>Florida</td>\n",
       "      <td>166187.94</td>\n",
       "    </tr>\n",
       "  </tbody>\n",
       "</table>\n",
       "</div>"
      ],
      "text/plain": [
       "   R&D Spend  Administration  Marketing Spend       State     Profit\n",
       "0  165349.20       136897.80        471784.10    New York  192261.83\n",
       "1  162597.70       151377.59        443898.53  California  191792.06\n",
       "2  153441.51       101145.55        407934.54     Florida  191050.39\n",
       "3  144372.41       118671.85        383199.62    New York  182901.99\n",
       "4  142107.34        91391.77        366168.42     Florida  166187.94"
      ]
     },
     "execution_count": 6,
     "metadata": {},
     "output_type": "execute_result"
    }
   ],
   "source": [
    "data.head()"
   ]
  },
  {
   "cell_type": "code",
   "execution_count": 7,
   "id": "b442643d-834d-4c1c-b488-18d625d2dc6d",
   "metadata": {},
   "outputs": [
    {
     "name": "stdout",
     "output_type": "stream",
     "text": [
      "<class 'pandas.core.frame.DataFrame'>\n",
      "RangeIndex: 50 entries, 0 to 49\n",
      "Data columns (total 5 columns):\n",
      " #   Column           Non-Null Count  Dtype  \n",
      "---  ------           --------------  -----  \n",
      " 0   R&D Spend        50 non-null     float64\n",
      " 1   Administration   50 non-null     float64\n",
      " 2   Marketing Spend  50 non-null     float64\n",
      " 3   State            50 non-null     object \n",
      " 4   Profit           50 non-null     float64\n",
      "dtypes: float64(4), object(1)\n",
      "memory usage: 2.1+ KB\n"
     ]
    }
   ],
   "source": [
    "data.info()"
   ]
  },
  {
   "cell_type": "code",
   "execution_count": 8,
   "id": "99802f44-e9ca-4c93-8cc9-2ac215475eab",
   "metadata": {},
   "outputs": [
    {
     "data": {
      "text/plain": [
       "R&D Spend          float64\n",
       "Administration     float64\n",
       "Marketing Spend    float64\n",
       "State               object\n",
       "Profit             float64\n",
       "dtype: object"
      ]
     },
     "execution_count": 8,
     "metadata": {},
     "output_type": "execute_result"
    }
   ],
   "source": [
    "data.dtypes"
   ]
  },
  {
   "cell_type": "code",
   "execution_count": 9,
   "id": "2271aefc-be73-4e3c-96ab-c666aa2f0b3e",
   "metadata": {},
   "outputs": [
    {
     "data": {
      "text/plain": [
       "R&D Spend                 float64\n",
       "Administration            float64\n",
       "Marketing Spend           float64\n",
       "State              string[python]\n",
       "Profit                    float64\n",
       "dtype: object"
      ]
     },
     "execution_count": 9,
     "metadata": {},
     "output_type": "execute_result"
    }
   ],
   "source": [
    "cols = list(data.select_dtypes(np.object_).columns)\n",
    "data[cols] = data[cols].astype('string')\n",
    "data.dtypes"
   ]
  },
  {
   "cell_type": "code",
   "execution_count": 10,
   "id": "d524a7f9-f21b-4a3b-aca9-3841ed4898ab",
   "metadata": {},
   "outputs": [
    {
     "data": {
      "text/plain": [
       "<StringArray>\n",
       "['New York', 'California', 'Florida']\n",
       "Length: 3, dtype: string"
      ]
     },
     "execution_count": 10,
     "metadata": {},
     "output_type": "execute_result"
    }
   ],
   "source": [
    "data['State'].unique()"
   ]
  },
  {
   "cell_type": "code",
   "execution_count": 11,
   "id": "dc4aef9e-102e-4d98-a6a6-76eb075db193",
   "metadata": {},
   "outputs": [],
   "source": [
    "State_mapping = {'New York': 1, 'California': 2, 'Florida':3}\n",
    "data['State'] = data['State'].map(State_mapping)"
   ]
  },
  {
   "cell_type": "code",
   "execution_count": 13,
   "id": "1842fd82-a13d-474f-bfb8-7971a428017b",
   "metadata": {},
   "outputs": [
    {
     "data": {
      "text/plain": [
       "array([1, 2, 3], dtype=int64)"
      ]
     },
     "execution_count": 13,
     "metadata": {},
     "output_type": "execute_result"
    }
   ],
   "source": [
    "data['State'].unique()"
   ]
  },
  {
   "cell_type": "code",
   "execution_count": 14,
   "id": "2733fa8b-edd9-4243-9d94-8f10262b1655",
   "metadata": {},
   "outputs": [
    {
     "data": {
      "text/html": [
       "<div>\n",
       "<style scoped>\n",
       "    .dataframe tbody tr th:only-of-type {\n",
       "        vertical-align: middle;\n",
       "    }\n",
       "\n",
       "    .dataframe tbody tr th {\n",
       "        vertical-align: top;\n",
       "    }\n",
       "\n",
       "    .dataframe thead th {\n",
       "        text-align: right;\n",
       "    }\n",
       "</style>\n",
       "<table border=\"1\" class=\"dataframe\">\n",
       "  <thead>\n",
       "    <tr style=\"text-align: right;\">\n",
       "      <th></th>\n",
       "      <th>R&amp;D Spend</th>\n",
       "      <th>Administration</th>\n",
       "      <th>Marketing Spend</th>\n",
       "      <th>State</th>\n",
       "      <th>Profit</th>\n",
       "    </tr>\n",
       "  </thead>\n",
       "  <tbody>\n",
       "    <tr>\n",
       "      <th>0</th>\n",
       "      <td>165349.20</td>\n",
       "      <td>136897.80</td>\n",
       "      <td>471784.10</td>\n",
       "      <td>1</td>\n",
       "      <td>192261.83</td>\n",
       "    </tr>\n",
       "    <tr>\n",
       "      <th>1</th>\n",
       "      <td>162597.70</td>\n",
       "      <td>151377.59</td>\n",
       "      <td>443898.53</td>\n",
       "      <td>2</td>\n",
       "      <td>191792.06</td>\n",
       "    </tr>\n",
       "    <tr>\n",
       "      <th>2</th>\n",
       "      <td>153441.51</td>\n",
       "      <td>101145.55</td>\n",
       "      <td>407934.54</td>\n",
       "      <td>3</td>\n",
       "      <td>191050.39</td>\n",
       "    </tr>\n",
       "    <tr>\n",
       "      <th>3</th>\n",
       "      <td>144372.41</td>\n",
       "      <td>118671.85</td>\n",
       "      <td>383199.62</td>\n",
       "      <td>1</td>\n",
       "      <td>182901.99</td>\n",
       "    </tr>\n",
       "    <tr>\n",
       "      <th>4</th>\n",
       "      <td>142107.34</td>\n",
       "      <td>91391.77</td>\n",
       "      <td>366168.42</td>\n",
       "      <td>3</td>\n",
       "      <td>166187.94</td>\n",
       "    </tr>\n",
       "  </tbody>\n",
       "</table>\n",
       "</div>"
      ],
      "text/plain": [
       "   R&D Spend  Administration  Marketing Spend  State     Profit\n",
       "0  165349.20       136897.80        471784.10      1  192261.83\n",
       "1  162597.70       151377.59        443898.53      2  191792.06\n",
       "2  153441.51       101145.55        407934.54      3  191050.39\n",
       "3  144372.41       118671.85        383199.62      1  182901.99\n",
       "4  142107.34        91391.77        366168.42      3  166187.94"
      ]
     },
     "execution_count": 14,
     "metadata": {},
     "output_type": "execute_result"
    }
   ],
   "source": [
    "data.head()"
   ]
  },
  {
   "cell_type": "code",
   "execution_count": 20,
   "id": "20832106-53af-4815-bf4d-f72d7506b75e",
   "metadata": {},
   "outputs": [],
   "source": [
    "# Features and label\n",
    "X = data[['R&D Spend','Administration','Marketing Spend','State']].values  # input feature\n",
    "y = data['Profit'].values  # target variable"
   ]
  },
  {
   "cell_type": "code",
   "execution_count": 21,
   "id": "4f81ef9f-f658-4dad-80d8-943beded0abc",
   "metadata": {},
   "outputs": [],
   "source": [
    "# Feature Scaling\n",
    "scaler_X = StandardScaler()\n",
    "scaler_y = StandardScaler()"
   ]
  },
  {
   "cell_type": "code",
   "execution_count": 22,
   "id": "486706dc-c55d-4bc0-a36e-cca131d1f7e4",
   "metadata": {},
   "outputs": [],
   "source": [
    "X = scaler_X.fit_transform(X)\n",
    "y = scaler_y.fit_transform(y.reshape(-1, 1))  # Reshape y for scaling"
   ]
  },
  {
   "cell_type": "code",
   "execution_count": 23,
   "id": "de73aebf-90f3-4de0-a23a-a7121ef94c69",
   "metadata": {},
   "outputs": [],
   "source": [
    "# Convert to tensors\n",
    "X = torch.tensor(X, dtype=torch.float32)\n",
    "y = torch.tensor(y, dtype=torch.float32)"
   ]
  },
  {
   "cell_type": "code",
   "execution_count": 24,
   "id": "ead8ca0e-f12a-45e3-b472-13cf97def984",
   "metadata": {},
   "outputs": [],
   "source": [
    "# Split into train and test sets\n",
    "X_train, X_test, y_train, y_test = train_test_split(X, y, test_size=0.2, random_state=42)"
   ]
  },
  {
   "cell_type": "code",
   "execution_count": 25,
   "id": "bfeb937f-af38-4a12-9817-4d342675d2fb",
   "metadata": {},
   "outputs": [],
   "source": [
    "# Send data to device\n",
    "X_train, X_test = X_train.to(device), X_test.to(device)\n",
    "y_train, y_test = y_train.to(device), y_test.to(device)"
   ]
  },
  {
   "cell_type": "code",
   "execution_count": 29,
   "id": "e8189d79-4326-46a7-ab13-0082d6d7e545",
   "metadata": {},
   "outputs": [],
   "source": [
    "# Define a simple ANN model for regression\n",
    "class RegressionANN(nn.Module):\n",
    "    def __init__(self):\n",
    "        super(RegressionANN, self).__init__()\n",
    "        self.model = nn.Sequential(\n",
    "            nn.Linear(4, 10),\n",
    "            nn.ReLU(),\n",
    "            nn.Linear(10, 5),\n",
    "            nn.ReLU(),\n",
    "            nn.Linear(5, 1)\n",
    "        )\n",
    "\n",
    "    def forward(self, x):\n",
    "        return self.model(x)"
   ]
  },
  {
   "cell_type": "code",
   "execution_count": 30,
   "id": "36eecc19-d49e-4374-8f68-2ff03c673c9c",
   "metadata": {},
   "outputs": [],
   "source": [
    "# Instantiate model, loss function and optimizer\n",
    "model = RegressionANN().to(device)\n",
    "criterion = nn.MSELoss()  # Mean Squared Error for regression\n",
    "optimizer = optim.Adam(model.parameters(), lr=0.01)"
   ]
  },
  {
   "cell_type": "code",
   "execution_count": 31,
   "id": "f2caf14a-bfdf-4d44-9f22-af9fdb37132d",
   "metadata": {},
   "outputs": [
    {
     "name": "stdout",
     "output_type": "stream",
     "text": [
      "Epoch [10/100], Train Loss: 0.9917, Val Loss: 0.5301, Train R2: 0.0828, Val R2: -0.0423\n",
      "Epoch [20/100], Train Loss: 0.6532, Val Loss: 0.5309, Train R2: 0.3959, Val R2: -0.0438\n",
      "Epoch [30/100], Train Loss: 0.2947, Val Loss: 0.3091, Train R2: 0.7274, Val R2: 0.3923\n",
      "Epoch [40/100], Train Loss: 0.1445, Val Loss: 0.2210, Train R2: 0.8664, Val R2: 0.5655\n",
      "Epoch [50/100], Train Loss: 0.1158, Val Loss: 0.2711, Train R2: 0.8929, Val R2: 0.4671\n",
      "Epoch [60/100], Train Loss: 0.0886, Val Loss: 0.1675, Train R2: 0.9180, Val R2: 0.6706\n",
      "Epoch [70/100], Train Loss: 0.0800, Val Loss: 0.1148, Train R2: 0.9260, Val R2: 0.7742\n",
      "Epoch [80/100], Train Loss: 0.0694, Val Loss: 0.1057, Train R2: 0.9358, Val R2: 0.7922\n",
      "Epoch [90/100], Train Loss: 0.0605, Val Loss: 0.0880, Train R2: 0.9440, Val R2: 0.8271\n",
      "Epoch [100/100], Train Loss: 0.0512, Val Loss: 0.0664, Train R2: 0.9527, Val R2: 0.8694\n"
     ]
    }
   ],
   "source": [
    "# Training loop\n",
    "n_epochs = 100\n",
    "for epoch in range(n_epochs):\n",
    "    model.train()\n",
    "    optimizer.zero_grad()\n",
    "    outputs = model(X_train)\n",
    "    loss = criterion(outputs, y_train)\n",
    "    loss.backward()\n",
    "    optimizer.step()\n",
    "\n",
    "    # Calculate training R2 Score\n",
    "    with torch.no_grad():\n",
    "        train_preds = scaler_y.inverse_transform(outputs.cpu().numpy())\n",
    "        y_train_actual = scaler_y.inverse_transform(y_train.cpu().numpy())\n",
    "        train_r2 = r2_score(y_train_actual, train_preds)\n",
    "\n",
    "    # Evaluation on validation set\n",
    "    model.eval()\n",
    "    with torch.no_grad():\n",
    "        val_outputs = model(X_test)\n",
    "        val_loss = criterion(val_outputs, y_test)\n",
    "\n",
    "        val_preds = scaler_y.inverse_transform(val_outputs.cpu().numpy())\n",
    "        y_val_actual = scaler_y.inverse_transform(y_test.cpu().numpy())\n",
    "        val_r2 = r2_score(y_val_actual, val_preds)\n",
    "\n",
    "    if (epoch + 1) % 10 == 0:\n",
    "        print(f\"Epoch [{epoch+1}/{n_epochs}], Train Loss: {loss.item():.4f}, Val Loss: {val_loss.item():.4f}, Train R2: {train_r2:.4f}, Val R2: {val_r2:.4f}\")\n"
   ]
  },
  {
   "cell_type": "code",
   "execution_count": 32,
   "id": "070a957d-a571-4591-a364-f1ba7bb68ef5",
   "metadata": {},
   "outputs": [],
   "source": [
    "# Final evaluation\n",
    "model.eval()\n",
    "with torch.no_grad():\n",
    "    predictions = model(X_test)\n",
    "    predictions = predictions.cpu().numpy()\n",
    "    y_test_np = y_test.cpu().numpy()\n",
    "\n",
    "    # Inverse scaling\n",
    "    predictions = scaler_y.inverse_transform(predictions)\n",
    "    y_actual = scaler_y.inverse_transform(y_test_np)\n",
    "\n",
    "    mse = mean_squared_error(y_actual, predictions)\n",
    "    r2 = r2_score(y_actual, predictions)"
   ]
  },
  {
   "cell_type": "code",
   "execution_count": 33,
   "id": "16d24ae3-d641-4c9e-a276-d31d469a5d3d",
   "metadata": {},
   "outputs": [
    {
     "name": "stdout",
     "output_type": "stream",
     "text": [
      "\n",
      "Test MSE: 105791040.0\n",
      "R2 Score: 0.8693602282820636\n"
     ]
    }
   ],
   "source": [
    "print(\"\\nTest MSE:\", mse)\n",
    "print(\"R2 Score:\", r2)"
   ]
  },
  {
   "cell_type": "code",
   "execution_count": null,
   "id": "b80f9ea1-ea72-4a9a-808b-028fd76e5d6c",
   "metadata": {},
   "outputs": [],
   "source": []
  }
 ],
 "metadata": {
  "kernelspec": {
   "display_name": "Python 3 (ipykernel)",
   "language": "python",
   "name": "python3"
  },
  "language_info": {
   "codemirror_mode": {
    "name": "ipython",
    "version": 3
   },
   "file_extension": ".py",
   "mimetype": "text/x-python",
   "name": "python",
   "nbconvert_exporter": "python",
   "pygments_lexer": "ipython3",
   "version": "3.12.1"
  }
 },
 "nbformat": 4,
 "nbformat_minor": 5
}
