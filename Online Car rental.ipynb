{
 "cells": [
  {
   "cell_type": "markdown",
   "id": "53cef35c-69de-4029-9c7d-b4ef2ce227a8",
   "metadata": {},
   "source": [
    "# $$ Online Car  Rental  Platform $$"
   ]
  },
  {
   "cell_type": "markdown",
   "id": "72cf30d6-a348-407a-be0b-72cc08dcbd4a",
   "metadata": {},
   "source": [
    "## Project Objective:\n",
    "Develop an online car rental platform by employing Object-Oriented Programming in Python."
   ]
  },
  {
   "cell_type": "markdown",
   "id": "adc60dcc-104d-4d5d-ad55-281d65fffe10",
   "metadata": {},
   "source": [
    "## Problem Statement:\n",
    "A car rental company has requested to develop an online platform for renting cars where customers can easily view the cars available for rental on an hourly, daily, or weekly basis. The company will show the current inventory and verify requests by checking the available stock. Upon returning the car, customers will receive an automatically generated bill.\n",
    "\n",
    "For simplicity, let’s assume that:\n",
    "\n",
    "1.\tCustomers may rent cars using one of the following options: hourly, daily, or weekly rental.\n",
    "   \n",
    "2. \tCustomers can freely choose the number of cars they wish to rent as long as the quantity of available cars exceeds their requested amount.\n",
    "\n"
   ]
  },
  {
   "cell_type": "markdown",
   "id": "32116c95-a53e-4873-8464-529db1071942",
   "metadata": {},
   "source": [
    "## Solution"
   ]
  },
  {
   "cell_type": "code",
   "execution_count": null,
   "id": "cbff0cb8-a013-4f45-b668-79025af5512f",
   "metadata": {},
   "outputs": [
    {
     "name": "stdout",
     "output_type": "stream",
     "text": [
      "\n",
      "Menu:\n",
      "1. List available cars\n",
      "2. Rent a car\n",
      "3. Return a car\n",
      "4. Exit\n"
     ]
    },
    {
     "name": "stdin",
     "output_type": "stream",
     "text": [
      "Enter your choice (1/2/3/4):  1\n"
     ]
    },
    {
     "name": "stdout",
     "output_type": "stream",
     "text": [
      "Available cars:\n",
      " Car ID |Car-Make (Year) \t| Rent Per hour \t| Rent Per Day \t| Rent Per Week |\n",
      "1 \t|Audi-Q5 (2023) \t\t| $10.00 \t\t|$50.00 \t| $100.00\n",
      "2 \t|Merc-GLC (2024) \t\t| $10.00 \t\t|$50.00 \t| $100.00\n",
      "3 \t|BMW-X3 (2022) \t\t| $10.00 \t\t|$50.00 \t| $100.00\n",
      "\n",
      "Menu:\n",
      "1. List available cars\n",
      "2. Rent a car\n",
      "3. Return a car\n",
      "4. Exit\n"
     ]
    },
    {
     "name": "stdin",
     "output_type": "stream",
     "text": [
      "Enter your choice (1/2/3/4):  2\n",
      "Enter your name:  2\n",
      "Enter the car ID you would like to rent  2\n",
      "Enter rental mode 1: hourly 2: daily 3: weekly  2\n",
      "How many days do you want to rent the car 2\n"
     ]
    },
    {
     "name": "stdout",
     "output_type": "stream",
     "text": [
      "car_id 2 rental_mode daily duration 2 num_cars1\n",
      "Merc GLC (2024) is now rented for 48 hours today at time 2024-06-20 20:41:37.686503.\n",
      "\n",
      "Menu:\n",
      "1. List available cars\n",
      "2. Rent a car\n",
      "3. Return a car\n",
      "4. Exit\n"
     ]
    },
    {
     "name": "stdin",
     "output_type": "stream",
     "text": [
      "Enter your choice (1/2/3/4):  3\n",
      "Enter the car ID you would like to return  2\n"
     ]
    },
    {
     "name": "stdout",
     "output_type": "stream",
     "text": [
      "Merc GLC (2024) has been returned at time 2024-06-22 20:41:47.983791 rental mode daily rental duration 48\n",
      "Total rental cost: $100.01\n",
      "\n",
      "Menu:\n",
      "1. List available cars\n",
      "2. Rent a car\n",
      "3. Return a car\n",
      "4. Exit\n"
     ]
    },
    {
     "name": "stdin",
     "output_type": "stream",
     "text": [
      "Enter your choice (1/2/3/4):  1\n"
     ]
    },
    {
     "name": "stdout",
     "output_type": "stream",
     "text": [
      "Available cars:\n",
      " Car ID |Car-Make (Year) \t| Rent Per hour \t| Rent Per Day \t| Rent Per Week |\n",
      "1 \t|Audi-Q5 (2023) \t\t| $10.00 \t\t|$50.00 \t| $100.00\n",
      "2 \t|Merc-GLC (2024) \t\t| $10.00 \t\t|$50.00 \t| $100.00\n",
      "3 \t|BMW-X3 (2022) \t\t| $10.00 \t\t|$50.00 \t| $100.00\n",
      "\n",
      "Menu:\n",
      "1. List available cars\n",
      "2. Rent a car\n",
      "3. Return a car\n",
      "4. Exit\n"
     ]
    },
    {
     "name": "stdin",
     "output_type": "stream",
     "text": [
      "Enter your choice (1/2/3/4):  2\n",
      "Enter your name:  Nag\n",
      "Enter the car ID you would like to rent  2\n",
      "Enter rental mode 1: hourly 2: daily 3: weekly  2\n",
      "How many days do you want to rent the car 2\n"
     ]
    },
    {
     "name": "stdout",
     "output_type": "stream",
     "text": [
      "car_id 2 rental_mode daily duration 2 num_cars1\n",
      "Merc GLC (2024) is now rented for 48 hours today at time 2024-06-20 20:45:54.126761.\n",
      "\n",
      "Menu:\n",
      "1. List available cars\n",
      "2. Rent a car\n",
      "3. Return a car\n",
      "4. Exit\n"
     ]
    },
    {
     "name": "stdin",
     "output_type": "stream",
     "text": [
      "Enter your choice (1/2/3/4):  3\n",
      "Enter the car ID you would like to return  2\n"
     ]
    },
    {
     "name": "stdout",
     "output_type": "stream",
     "text": [
      "Merc GLC (2024) has been returned at time 2024-06-22 20:46:25.983958 rental mode daily rental duration 48\n",
      "Total rental cost: $100.02\n",
      "\n",
      "Menu:\n",
      "1. List available cars\n",
      "2. Rent a car\n",
      "3. Return a car\n",
      "4. Exit\n"
     ]
    }
   ],
   "source": [
    "# 1. Import the built-in DateTime module to manage the rental time and billing\n",
    "\n",
    "from datetime import datetime, timedelta\n",
    "\n",
    "#2.\tCreate a class for renting the cars and define a constructor in it\n",
    "\n",
    "class Car:\n",
    "    counter = 0\n",
    "    available_cars = 0\n",
    "    def __init__(self, make, model, year, rental_rate_per_hour, rental_rate_per_day, rental_rate_per_week, car_id ):\n",
    "        self.make = make\n",
    "        self.model = model\n",
    "        self.year = year\n",
    "        self.rental_rate_per_hour = rental_rate_per_hour\n",
    "        self.rental_rate_per_day  = rental_rate_per_day\n",
    "        self.rental_rate_per_week = rental_rate_per_week\n",
    "        self.rental_mode = 'none'\n",
    "        self.is_rented = False\n",
    "        self.car_id = car_id\n",
    "        self.counter += 1\n",
    "        self.available_cars += 1\n",
    "    \n",
    "#3.  Define a method to display the available cars. \n",
    "    def display_availability(self):\n",
    "        i = 0\n",
    "        while i < counter:\n",
    "            i += 1\n",
    "            if (self.is_rented == FALSE):\n",
    "                print(f\"{self.make} {self.model} is now available for rent.\")\n",
    "\n",
    "#3.\tAdditionally, create methods for renting cars on an hourly, daily, and weekly basis, respectively\n",
    "#4.\tWithin these methods, ensure that the requested number of cars is both positive and less than the total number of available cars\n",
    "#5.\tStore the rental time of a car in a variable. You can later use this variable in the bill when returning the car\n",
    "\n",
    "    def rent(self, duration, num_cars_to_rent, rental_mode):\n",
    "        self.rental_mode = rental_mode\n",
    "        if num_cars_to_rent < 0:\n",
    "            print(f\"{num_cars_to_rent} to rent is an invalid request.\")\n",
    "            \n",
    "        elif num_cars_to_rent < self.available_cars:\n",
    "            print(f\"{num_cars_to_rent} cars are requested for rent but only {self.available_cars} are available.\")\n",
    "            \n",
    "        elif not self.is_rented:\n",
    "            if self.rental_mode == 'hourly':\n",
    "                pass\n",
    "            elif self.rental_mode == 'daily':\n",
    "                duration = duration*24\n",
    "            elif self.rental_mode == 'weekly':\n",
    "                duration = duration*24*7\n",
    "            else:\n",
    "                print(f\"Error\")\n",
    "            self.is_rented = True\n",
    "            self.rental_start_time = datetime.now()\n",
    "            self.rental_duration = duration\n",
    "            self.available_cars -= 1\n",
    "            print(f\"{self.make} {self.model} ({self.year}) is now rented for {duration} hours today at time {self.rental_start_time}.\")\n",
    "            \n",
    "        else:\n",
    "            print(f\"{self.make} {self.model} ({self.year}) is already rented.\")\n",
    "            \n",
    "    \n",
    "#6.\tDefine a method that returns the cars based on rental time, rental mode (hourly, daily, or weekly), and the number of cars rented\n",
    "    def getRentedCars(self, rental_time, rental_mode, num_cars_rented):\n",
    "        i = 0\n",
    "        while i < counter:\n",
    "            i += 1\n",
    "            if (self.is_rented == FALSE):\n",
    "                print(f\"{self.make} {self.model} is now available for rent.\")\n",
    "#7.\tWithin the return method, perform the following actions: update the inventory stock, calculate the rental period, and generate the final bill\n",
    "    def return_car(self):\n",
    "        if self.is_rented:\n",
    "            self.available_cars += 1\n",
    "            rental_end_time = datetime.now() + timedelta(hours = self.rental_duration)\n",
    "            elapsed_time = rental_end_time - self.rental_start_time\n",
    "            total_hours = elapsed_time.total_seconds() / 3600\n",
    "            if self.rental_mode == 'hourly':\n",
    "                hours_to_days_weeks = total_hours\n",
    "                total_cost = self.rental_rate_per_hour * hours_to_days_weeks\n",
    "            elif self.rental_mode == 'daily':\n",
    "                hours_to_days_weeks = total_hours/24\n",
    "                total_cost = self.rental_rate_per_day * hours_to_days_weeks\n",
    "            elif self.rental_mode == 'weekly':\n",
    "                hours_to_days_weeks = total_hours/(24*7)\n",
    "                total_cost = self.rental_rate_per_week * hours_to_days_weeks\n",
    "            else:\n",
    "                print(f\"Error\")\n",
    "            self.is_rented = False\n",
    "            print(f\"{self.make} {self.model} ({self.year}) has been returned at time {rental_end_time} rental mode {self.rental_mode} rental duration {self.rental_duration}\")\n",
    "            print(f\"Total rental cost: ${total_cost:.2f}\")\n",
    "        else:\n",
    "            print(f\"{self.make} {self.model} ({self.year}) is not currently rented.\")\n",
    "            \n",
    "    \n",
    "class Customer:\n",
    "    \n",
    "    def __init__(self):\n",
    "        self.cars = []\n",
    "\n",
    "    def add_car(self, car):\n",
    "        self.cars.append(car)\n",
    "\n",
    "    def list_available_cars(self):\n",
    "        available_cars = [car for car in self.cars if not car.is_rented]\n",
    "        if available_cars:\n",
    "            print(\"Available cars:\")\n",
    "            print(\" Car ID |Car-Make (Year) \\t| Rent Per hour \\t| Rent Per Day \\t| Rent Per Week |\")\n",
    "            for car in available_cars:\n",
    "                print(f\"{car.car_id} \\t|{car.make}-{car.model} ({car.year}) \\t\\t| ${car.rental_rate_per_hour:.2f} \\t\\t|${car.rental_rate_per_day:.2f} \\t| ${car.rental_rate_per_week:.2f}\")\n",
    "        else:\n",
    "            print(\"No cars available for rent.\")\n",
    "        \n",
    "    def request_car(self, car_id, rental_mode, duration, num_cars):\n",
    "        print(f\"car_id {car_id} rental_mode {rental_mode} duration {duration} num_cars{num_cars}\")\n",
    "        for car in self.cars:\n",
    "            if int(car_id) == car.car_id:\n",
    "                car.rent(int(duration), int(num_cars), rental_mode)\n",
    "            \n",
    "    def return_car(self, car_id):\n",
    "        for car in self.cars:\n",
    "            if (int(car_id) == car.car_id):\n",
    "                car.return_car()\n",
    "#Main\n",
    "if __name__ == \"__main__\":\n",
    "    \n",
    "    car1 = Car(\"Audi\", \"Q5\", 2023, 10, 50, 100, 1)\n",
    "    car2 = Car(\"Merc\", \"GLC\", 2024, 10, 50, 100, 2)\n",
    "    car3 = Car(\"BMW\", \"X3\", 2022, 10, 50, 100, 3)\n",
    "    rental_platform = Customer()\n",
    "    rental_platform.add_car(car1)\n",
    "    rental_platform.add_car(car2)\n",
    "    rental_platform.add_car(car3)\n",
    "\n",
    "    while True:\n",
    "        print(\"\\nMenu:\")\n",
    "        print(\"1. List available cars\")\n",
    "        print(\"2. Rent a car\")\n",
    "        print(\"3. Return a car\")\n",
    "        print(\"4. Exit\")\n",
    "\n",
    "        choice = input(\"Enter your choice (1/2/3/4): \")\n",
    "        \n",
    "        if choice == \"1\":\n",
    "            rental_platform.list_available_cars()\n",
    "            \n",
    "        elif choice == \"2\":\n",
    "            name = input(\"Enter your name: \")\n",
    "            car_id = input(\"Enter the car ID you would like to rent \")\n",
    "            rental_mode = input(\"Enter rental mode 1: hourly 2: daily 3: weekly \")\n",
    "            if rental_mode == \"1\":\n",
    "                rental_mode = 'hourly'\n",
    "                duration = input(\"How many hours do you want to rent the car\")\n",
    "            elif rental_mode == \"2\":\n",
    "                rental_mode = 'daily'\n",
    "                duration = input(\"How many days do you want to rent the car\")\n",
    "            elif rental_mode == \"3\":\n",
    "                rental_mode = 'weekly'\n",
    "                duration = input(\"How many weeks do you want to rent the car\")\n",
    "            else:\n",
    "                print(\"Invalid choice. Please select a valid option.\")\n",
    "            \n",
    "            rental_platform.request_car(car_id, rental_mode, duration, num_cars=1)\n",
    "            \n",
    "        elif choice == \"3\":\n",
    "            car_id = input(\"Enter the car ID you would like to return \")\n",
    "            rental_platform.return_car(car_id)\n",
    "            \n",
    "        elif choice == \"4\":\n",
    "            print(\"Thank you for using our car rental platform!\")\n",
    "            break\n",
    "            \n",
    "        else:\n",
    "            print(\"Invalid choice. Please select a valid option.\")\n",
    "    \n",
    "\n",
    "    car1.rent(duration = 3, num_cars_to_rent = 1, rental_mode = 'hourly')\n",
    "    car2.rent(duration = 3, num_cars_to_rent = 1, rental_mode = 'daily')\n",
    "    car2.return_car()\n",
    "    car3.rent(duration = 3, num_cars_to_rent = 1, rental_mode = 'weekly')\n",
    "    car1.return_car()\n",
    "\n",
    "    rental_platform.list_available_cars()\n"
   ]
  },
  {
   "cell_type": "markdown",
   "id": "ceb7fc32-8715-4645-a82d-18ca9218d444",
   "metadata": {},
   "source": [
    "#### "
   ]
  }
 ],
 "metadata": {
  "kernelspec": {
   "display_name": "Python 3 (ipykernel)",
   "language": "python",
   "name": "python3"
  },
  "language_info": {
   "codemirror_mode": {
    "name": "ipython",
    "version": 3
   },
   "file_extension": ".py",
   "mimetype": "text/x-python",
   "name": "python",
   "nbconvert_exporter": "python",
   "pygments_lexer": "ipython3",
   "version": "3.12.1"
  }
 },
 "nbformat": 4,
 "nbformat_minor": 5
}
